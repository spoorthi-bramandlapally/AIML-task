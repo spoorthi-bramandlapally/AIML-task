{
 "cells": [
  {
   "cell_type": "code",
   "execution_count": 2,
   "id": "35f273de",
   "metadata": {},
   "outputs": [
    {
     "data": {
      "text/plain": [
       "[['apple', 10], ['banana', 6], ['cherry', 8], ['dragon', 11], ['apple', 20]]"
      ]
     },
     "execution_count": 2,
     "metadata": {},
     "output_type": "execute_result"
    }
   ],
   "source": [
    "orders=[['apple',10],['banana',6],['cherry',8],['dragon',11],['apple',20]]\n",
    "orders"
   ]
  },
  {
   "cell_type": "code",
   "execution_count": 5,
   "id": "57b218f6",
   "metadata": {},
   "outputs": [
    {
     "name": "stdout",
     "output_type": "stream",
     "text": [
      "[['apple', 10], ['banana', 6], ['cherry', 10], ['dragon', 11], ['apple', 20]]\n"
     ]
    }
   ],
   "source": [
    "for each in orders:\n",
    "    if each[0]==\"cherry\":\n",
    "        each[1]=10\n",
    "print(orders)"
   ]
  },
  {
   "cell_type": "code",
   "execution_count": 21,
   "id": "e0ebb805",
   "metadata": {},
   "outputs": [
    {
     "name": "stdout",
     "output_type": "stream",
     "text": [
      "[10, 20]\n"
     ]
    }
   ],
   "source": [
    "apple_orders=[]\n",
    "for each in orders:\n",
    "    if each[0]=='apple':\n",
    "        apple_orders.append(each[1])    \n",
    "print(apple_orders)\n"
   ]
  },
  {
   "cell_type": "code",
   "execution_count": 22,
   "id": "9c1f342c",
   "metadata": {},
   "outputs": [
    {
     "name": "stdout",
     "output_type": "stream",
     "text": [
      "30\n"
     ]
    }
   ],
   "source": [
    "print(sum(apple_orders))"
   ]
  },
  {
   "cell_type": "markdown",
   "id": "4c53afe7",
   "metadata": {},
   "source": [
    "TUPLES"
   ]
  },
  {
   "cell_type": "code",
   "execution_count": 33,
   "id": "4a1327a2",
   "metadata": {},
   "outputs": [
    {
     "name": "stdout",
     "output_type": "stream",
     "text": [
      "(3, 5, 9, 10)\n",
      "(10, 20, 30, 'hi')\n",
      "[1, 2, 5, 7]\n",
      "<class 'list'>\n",
      "([3, 4, 5], (1, 2, 3), 'hello', 105)\n",
      "<class 'tuple'>\n"
     ]
    }
   ],
   "source": [
    "t1=(3,5,9,10)\n",
    "t2=10,20,30,\"hi\"\n",
    "t3=([1,2,5,7])\n",
    "t4=([3,4,5],(1,2,3),\"hello\",105)\n",
    "print(t1)\n",
    "print(t2)\n",
    "print(t3)\n",
    "print(type(t3))\n",
    "print(t4)\n",
    "print(type(t4))"
   ]
  },
  {
   "cell_type": "code",
   "execution_count": 37,
   "id": "790880e3",
   "metadata": {},
   "outputs": [
    {
     "data": {
      "text/plain": [
       "([3, 4, 10], (1, 2, 3), 'hello', 105)"
      ]
     },
     "execution_count": 37,
     "metadata": {},
     "output_type": "execute_result"
    }
   ],
   "source": [
    "#tuple can modify when it is in list because list can modify and mutable\n",
    "t4[0][2]=10\n",
    "t4"
   ]
  },
  {
   "cell_type": "code",
   "execution_count": 40,
   "id": "8dee8e55",
   "metadata": {},
   "outputs": [
    {
     "ename": "TypeError",
     "evalue": "'tuple' object does not support item assignment",
     "output_type": "error",
     "traceback": [
      "\u001b[1;31m---------------------------------------------------------------------------\u001b[0m",
      "\u001b[1;31mTypeError\u001b[0m                                 Traceback (most recent call last)",
      "Cell \u001b[1;32mIn[40], line 1\u001b[0m\n\u001b[1;32m----> 1\u001b[0m t4[\u001b[38;5;241m1\u001b[39m][\u001b[38;5;241m1\u001b[39m]\u001b[38;5;241m=\u001b[39m\u001b[38;5;241m100\u001b[39m\n\u001b[0;32m      2\u001b[0m t4\n",
      "\u001b[1;31mTypeError\u001b[0m: 'tuple' object does not support item assignment"
     ]
    }
   ],
   "source": [
    "#tuple cannot modify \n",
    "t4[1][1]=100\n",
    "t4"
   ]
  },
  {
   "cell_type": "code",
   "execution_count": 44,
   "id": "9b4aa6b1",
   "metadata": {},
   "outputs": [
    {
     "data": {
      "text/plain": [
       "2"
      ]
     },
     "execution_count": 44,
     "metadata": {},
     "output_type": "execute_result"
    }
   ],
   "source": [
    "t4=([3,4,5],(1,2,3),\"hello\",105)\n",
    "t4.index(\"hello\")"
   ]
  },
  {
   "cell_type": "code",
   "execution_count": 46,
   "id": "2523e839",
   "metadata": {},
   "outputs": [
    {
     "data": {
      "text/plain": [
       "4"
      ]
     },
     "execution_count": 46,
     "metadata": {},
     "output_type": "execute_result"
    }
   ],
   "source": [
    "t5=(10,20,30,40,20,20,30,10,20,30,30,30,30)\n",
    "t5.count(20)"
   ]
  }
 ],
 "metadata": {
  "kernelspec": {
   "display_name": "Python 3 (ipykernel)",
   "language": "python",
   "name": "python3"
  },
  "language_info": {
   "codemirror_mode": {
    "name": "ipython",
    "version": 3
   },
   "file_extension": ".py",
   "mimetype": "text/x-python",
   "name": "python",
   "nbconvert_exporter": "python",
   "pygments_lexer": "ipython3",
   "version": "3.11.5"
  }
 },
 "nbformat": 4,
 "nbformat_minor": 5
}
