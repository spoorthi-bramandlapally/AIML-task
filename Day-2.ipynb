{
 "cells": [
  {
   "cell_type": "code",
   "execution_count": 5,
   "id": "19f6fe0e",
   "metadata": {},
   "outputs": [
    {
     "data": {
      "text/plain": [
       "[1, 2, 'spoorthi', [4, 5]]"
      ]
     },
     "execution_count": 5,
     "metadata": {},
     "output_type": "execute_result"
    }
   ],
   "source": [
    "#heteogenous elements\n",
    "l = [1,2,\"spoorthi\",[4,5]]\n",
    "l"
   ]
  },
  {
   "cell_type": "code",
   "execution_count": 8,
   "id": "b2d27467",
   "metadata": {},
   "outputs": [
    {
     "name": "stdout",
     "output_type": "stream",
     "text": [
      "2\n",
      "[2, 3]\n",
      "[2, 3, 4, 5, 6]\n",
      "[1, 2, 3]\n",
      "[1, 2, 3, 4, 5, 6]\n",
      "[2]\n"
     ]
    }
   ],
   "source": [
    "#slicing & indexing\n",
    "l=[1,2,3,4,5,6]\n",
    "print(l[1])\n",
    "print(l[1:3])\n",
    "print(l[1:])\n",
    "print(l[:3])\n",
    "print(l[:])\n",
    "print(l[1:2:5])"
   ]
  },
  {
   "cell_type": "code",
   "execution_count": 12,
   "id": "0752ef08",
   "metadata": {},
   "outputs": [
    {
     "name": "stdout",
     "output_type": "stream",
     "text": [
      "3\n",
      "6\n",
      "9\n",
      "12\n",
      "15\n"
     ]
    }
   ],
   "source": [
    "l=[1,2,3,4,5]\n",
    "for item in l:\n",
    "    print(3*item)"
   ]
  },
  {
   "cell_type": "code",
   "execution_count": 3,
   "id": "74ada94c",
   "metadata": {},
   "outputs": [
    {
     "name": "stdout",
     "output_type": "stream",
     "text": [
      "[1, 2, 3, 4, 5, 1, 2, 3, 4, 5, 1, 2, 3, 4, 5]\n"
     ]
    }
   ],
   "source": [
    "l=[1,2,3,4,5]\n",
    "print(3*l)"
   ]
  },
  {
   "cell_type": "code",
   "execution_count": 10,
   "id": "3417317c",
   "metadata": {},
   "outputs": [
    {
     "name": "stdout",
     "output_type": "stream",
     "text": [
      "3\n",
      "6\n",
      "9\n",
      "12\n",
      "15\n"
     ]
    }
   ],
   "source": [
    "l=[1,2,3,4,5]\n",
    "for x in range (len(l)):\n",
    "    print(3*l[x])"
   ]
  },
  {
   "cell_type": "code",
   "execution_count": 14,
   "id": "3386e584",
   "metadata": {},
   "outputs": [
    {
     "name": "stdout",
     "output_type": "stream",
     "text": [
      "[[2, 3], [4, 5], [5, 6], [6, 7], ['spoorthi']]\n"
     ]
    }
   ],
   "source": [
    "#nested list\n",
    "l=[[2,3],[4,5],[5,6],[6,7],[\"spoorthi\"]]\n",
    "print(l)"
   ]
  },
  {
   "cell_type": "code",
   "execution_count": 16,
   "id": "7a137c37",
   "metadata": {},
   "outputs": [
    {
     "data": {
      "text/plain": [
       "['__add__',\n",
       " '__class__',\n",
       " '__class_getitem__',\n",
       " '__contains__',\n",
       " '__delattr__',\n",
       " '__delitem__',\n",
       " '__dir__',\n",
       " '__doc__',\n",
       " '__eq__',\n",
       " '__format__',\n",
       " '__ge__',\n",
       " '__getattribute__',\n",
       " '__getitem__',\n",
       " '__getstate__',\n",
       " '__gt__',\n",
       " '__hash__',\n",
       " '__iadd__',\n",
       " '__imul__',\n",
       " '__init__',\n",
       " '__init_subclass__',\n",
       " '__iter__',\n",
       " '__le__',\n",
       " '__len__',\n",
       " '__lt__',\n",
       " '__mul__',\n",
       " '__ne__',\n",
       " '__new__',\n",
       " '__reduce__',\n",
       " '__reduce_ex__',\n",
       " '__repr__',\n",
       " '__reversed__',\n",
       " '__rmul__',\n",
       " '__setattr__',\n",
       " '__setitem__',\n",
       " '__sizeof__',\n",
       " '__str__',\n",
       " '__subclasshook__',\n",
       " 'append',\n",
       " 'clear',\n",
       " 'copy',\n",
       " 'count',\n",
       " 'extend',\n",
       " 'index',\n",
       " 'insert',\n",
       " 'pop',\n",
       " 'remove',\n",
       " 'reverse',\n",
       " 'sort']"
      ]
     },
     "execution_count": 16,
     "metadata": {},
     "output_type": "execute_result"
    }
   ],
   "source": [
    "dir(list)"
   ]
  },
  {
   "cell_type": "code",
   "execution_count": null,
   "id": "90c0b603",
   "metadata": {},
   "outputs": [],
   "source": [
    "#append,extend,insert for insertion\n",
    "#remove,pop(index),clear() for removing\n",
    "#sort(),reverse() for sorting"
   ]
  },
  {
   "cell_type": "code",
   "execution_count": 30,
   "id": "5e5f8a02",
   "metadata": {},
   "outputs": [
    {
     "data": {
      "text/plain": [
       "[['apple', 10], ['orange', 20], ['banana', 30], ['pineapple', 40]]"
      ]
     },
     "execution_count": 30,
     "metadata": {},
     "output_type": "execute_result"
    }
   ],
   "source": [
    "orders = [[\"apple\",10],[\"orange\",20],[\"banana\",30],[\"pineapple\",40]]\n",
    "orders"
   ]
  },
  {
   "cell_type": "code",
   "execution_count": 31,
   "id": "38092256",
   "metadata": {},
   "outputs": [
    {
     "data": {
      "text/plain": [
       "[['apple', 10],\n",
       " ['orange', 20],\n",
       " ['banana', 30],\n",
       " ['pineapple', 40],\n",
       " ['dates', 10]]"
      ]
     },
     "execution_count": 31,
     "metadata": {},
     "output_type": "execute_result"
    }
   ],
   "source": [
    "#adding the elements append treats all elements are different\n",
    "new = [\"dates\",10]\n",
    "orders.append(new)\n",
    "orders"
   ]
  },
  {
   "cell_type": "code",
   "execution_count": 32,
   "id": "7c2cffed",
   "metadata": {},
   "outputs": [
    {
     "data": {
      "text/plain": [
       "[['apple', 10],\n",
       " ['orange', 20],\n",
       " ['banana', 30],\n",
       " ['pineapple', 40],\n",
       " ['dates', 10],\n",
       " 'dates',\n",
       " 10]"
      ]
     },
     "execution_count": 32,
     "metadata": {},
     "output_type": "execute_result"
    }
   ],
   "source": [
    "#extend the elements extend treat all elements are same\n",
    "new = [\"dates\",10]\n",
    "orders.extend(new)\n",
    "orders"
   ]
  },
  {
   "cell_type": "code",
   "execution_count": 33,
   "id": "327a2092",
   "metadata": {},
   "outputs": [
    {
     "data": {
      "text/plain": [
       "[['apple', 10],\n",
       " ['orange', 20],\n",
       " ['dates', 10],\n",
       " ['banana', 30],\n",
       " ['pineapple', 40],\n",
       " ['dates', 10],\n",
       " 'dates',\n",
       " 10]"
      ]
     },
     "execution_count": 33,
     "metadata": {},
     "output_type": "execute_result"
    }
   ],
   "source": [
    "new = [\"dates\",10]\n",
    "orders.insert(2,new)\n",
    "orders"
   ]
  },
  {
   "cell_type": "code",
   "execution_count": 34,
   "id": "04c6b232",
   "metadata": {},
   "outputs": [
    {
     "data": {
      "text/plain": [
       "[['apple', 10],\n",
       " ['dates', 10],\n",
       " ['banana', 30],\n",
       " ['pineapple', 40],\n",
       " ['dates', 10],\n",
       " 'dates',\n",
       " 10]"
      ]
     },
     "execution_count": 34,
     "metadata": {},
     "output_type": "execute_result"
    }
   ],
   "source": [
    "#removing the elements\n",
    "remove=[\"orange\",20]\n",
    "orders.remove(remove)\n",
    "orders"
   ]
  },
  {
   "cell_type": "code",
   "execution_count": 36,
   "id": "7795d627",
   "metadata": {},
   "outputs": [
    {
     "ename": "TypeError",
     "evalue": "'builtin_function_or_method' object is not subscriptable",
     "output_type": "error",
     "traceback": [
      "\u001b[1;31m---------------------------------------------------------------------------\u001b[0m",
      "\u001b[1;31mTypeError\u001b[0m                                 Traceback (most recent call last)",
      "Cell \u001b[1;32mIn[36], line 3\u001b[0m\n\u001b[0;32m      1\u001b[0m \u001b[38;5;66;03m#pop the elements\u001b[39;00m\n\u001b[0;32m      2\u001b[0m remove\u001b[38;5;241m=\u001b[39m[\u001b[38;5;124m\"\u001b[39m\u001b[38;5;124morange\u001b[39m\u001b[38;5;124m\"\u001b[39m,\u001b[38;5;241m20\u001b[39m]\n\u001b[1;32m----> 3\u001b[0m orders\u001b[38;5;241m.\u001b[39mpop[\u001b[38;5;241m2\u001b[39m:\u001b[38;5;241m4\u001b[39m]\n\u001b[0;32m      4\u001b[0m orders\n",
      "\u001b[1;31mTypeError\u001b[0m: 'builtin_function_or_method' object is not subscriptable"
     ]
    }
   ],
   "source": [
    "#pop the elements\n",
    "remove=[\"orange\",20]\n",
    "orders.pop[2:4]\n",
    "orders"
   ]
  }
 ],
 "metadata": {
  "kernelspec": {
   "display_name": "Python 3 (ipykernel)",
   "language": "python",
   "name": "python3"
  },
  "language_info": {
   "codemirror_mode": {
    "name": "ipython",
    "version": 3
   },
   "file_extension": ".py",
   "mimetype": "text/x-python",
   "name": "python",
   "nbconvert_exporter": "python",
   "pygments_lexer": "ipython3",
   "version": "3.11.5"
  }
 },
 "nbformat": 4,
 "nbformat_minor": 5
}
