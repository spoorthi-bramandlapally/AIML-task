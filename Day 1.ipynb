{
 "cells": [
  {
   "cell_type": "code",
   "execution_count": 2,
   "id": "c3ae8feb",
   "metadata": {},
   "outputs": [],
   "source": [
    "l = [100, 50,193,443,256,53,1000]"
   ]
  },
  {
   "cell_type": "code",
   "execution_count": 7,
   "id": "2462566c",
   "metadata": {},
   "outputs": [
    {
     "name": "stdout",
     "output_type": "stream",
     "text": [
      "even numbers: 100\n",
      "even numbers: 50\n",
      "odd numbers: 193\n",
      "odd numbers: 443\n",
      "even numbers: 256\n",
      "odd numbers: 53\n",
      "even numbers: 1000\n"
     ]
    }
   ],
   "source": [
    "l = [100, 50,193,443,256,53,1000]\n",
    "l1 = []\n",
    "l2 = []\n",
    "for x in l:\n",
    "    if x%2==0:\n",
    "        l1.append(x)\n",
    "        print(\"even numbers:\",x)\n",
    "    else:\n",
    "        l2.append(x)\n",
    "        print(\"odd numbers:\",x)"
   ]
  },
  {
   "cell_type": "code",
   "execution_count": 12,
   "id": "fbe7cf37",
   "metadata": {},
   "outputs": [],
   "source": [
    "l = [100, 50,193,443,256,53,1000]\n",
    "l1 = []\n",
    "l2 = []\n",
    "for x in l:\n",
    "    if x%2==0:\n",
    "        l1.append(x)\n",
    "        \n",
    "    else:\n",
    "        l2.append(x)\n",
    "        "
   ]
  },
  {
   "cell_type": "code",
   "execution_count": 10,
   "id": "640a567f",
   "metadata": {},
   "outputs": [
    {
     "name": "stdout",
     "output_type": "stream",
     "text": [
      "[100, 50, 256, 1000]\n"
     ]
    }
   ],
   "source": [
    "print(l1)"
   ]
  },
  {
   "cell_type": "code",
   "execution_count": 11,
   "id": "f565db68",
   "metadata": {},
   "outputs": [
    {
     "name": "stdout",
     "output_type": "stream",
     "text": [
      "[193, 443, 53]\n"
     ]
    }
   ],
   "source": [
    "print(l2)"
   ]
  },
  {
   "cell_type": "code",
   "execution_count": null,
   "id": "8d9a7ad1",
   "metadata": {},
   "outputs": [],
   "source": []
  },
  {
   "cell_type": "code",
   "execution_count": 61,
   "id": "0968f905",
   "metadata": {},
   "outputs": [
    {
     "name": "stdout",
     "output_type": "stream",
     "text": [
      "[100, 205] ['A', 'B'] [True] [(6+8j)]\n"
     ]
    }
   ],
   "source": [
    "l=[\"A\", 100, \"B\", 205, True, 6+8j]\n",
    "l1=[]\n",
    "l2=[]\n",
    "l3=[]\n",
    "l4=[]\n",
    "for x in l:\n",
    "    if type(x)==int:\n",
    "        l1.append(x)\n",
    "    elif type(x)==str:\n",
    "        l2.append(x)\n",
    "    elif type(x)==bool:\n",
    "        l3.append(x)\n",
    "    else:\n",
    "        l4.append(x)\n",
    "print(l1,l2,l3,l4)"
   ]
  },
  {
   "cell_type": "code",
   "execution_count": 50,
   "id": "ea954867",
   "metadata": {},
   "outputs": [
    {
     "name": "stdout",
     "output_type": "stream",
     "text": [
      "integers: [100, 205]\n"
     ]
    }
   ],
   "source": [
    "print(\"integers:\",l1)"
   ]
  },
  {
   "cell_type": "code",
   "execution_count": 51,
   "id": "c3f75ad8",
   "metadata": {},
   "outputs": [
    {
     "name": "stdout",
     "output_type": "stream",
     "text": [
      "characters ['A', 'B']\n"
     ]
    }
   ],
   "source": [
    "print(\"characters\",l2)"
   ]
  },
  {
   "cell_type": "code",
   "execution_count": 52,
   "id": "cae0ce96",
   "metadata": {},
   "outputs": [
    {
     "name": "stdout",
     "output_type": "stream",
     "text": [
      "boolean: [True]\n"
     ]
    }
   ],
   "source": [
    "print(\"boolean:\",l3)"
   ]
  },
  {
   "cell_type": "code",
   "execution_count": 70,
   "id": "b2da40b3",
   "metadata": {},
   "outputs": [
    {
     "name": "stdout",
     "output_type": "stream",
     "text": [
      "complex conjucative [(6+8j)]\n"
     ]
    }
   ],
   "source": [
    "print(\"complex conjucative\",l4)"
   ]
  },
  {
   "cell_type": "code",
   "execution_count": null,
   "id": "b88d98bf",
   "metadata": {},
   "outputs": [],
   "source": []
  },
  {
   "cell_type": "code",
   "execution_count": 69,
   "id": "16a7d2a2",
   "metadata": {},
   "outputs": [
    {
     "name": "stdout",
     "output_type": "stream",
     "text": [
      "integers [100, 205]\n",
      "characters ['A', 'B']\n",
      "boolean [True]\n",
      "conjucative complex [(6+8j)]\n"
     ]
    }
   ],
   "source": [
    "l=[\"A\", 100, \"B\", 205, True, 6+8j]\n",
    "l1=[]\n",
    "l2=[]\n",
    "l3=[]\n",
    "l4=[]\n",
    "for x in l:\n",
    "    if type(x) is int:\n",
    "        l1.append(x)\n",
    "    elif type(x) is str:\n",
    "        l2.append(x)\n",
    "    elif type(x) is bool:\n",
    "        l3.append(x)\n",
    "    else:\n",
    "        l4.append(x)\n",
    "print(\"integers\",l1)\n",
    "print(\"characters\",l2)\n",
    "print(\"boolean\",l3)\n",
    "print(\"conjucative complex\",l4)"
   ]
  },
  {
   "cell_type": "code",
   "execution_count": null,
   "id": "74fe99ae",
   "metadata": {},
   "outputs": [],
   "source": []
  },
  {
   "cell_type": "code",
   "execution_count": null,
   "id": "3115288b",
   "metadata": {},
   "outputs": [],
   "source": []
  },
  {
   "cell_type": "code",
   "execution_count": null,
   "id": "ccbf415b",
   "metadata": {},
   "outputs": [],
   "source": []
  },
  {
   "cell_type": "code",
   "execution_count": null,
   "id": "0091c1d0",
   "metadata": {},
   "outputs": [],
   "source": []
  }
 ],
 "metadata": {
  "kernelspec": {
   "display_name": "Python 3 (ipykernel)",
   "language": "python",
   "name": "python3"
  },
  "language_info": {
   "codemirror_mode": {
    "name": "ipython",
    "version": 3
   },
   "file_extension": ".py",
   "mimetype": "text/x-python",
   "name": "python",
   "nbconvert_exporter": "python",
   "pygments_lexer": "ipython3",
   "version": "3.11.5"
  }
 },
 "nbformat": 4,
 "nbformat_minor": 5
}
